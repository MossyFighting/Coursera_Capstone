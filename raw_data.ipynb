{
 "cells": [
  {
   "cell_type": "code",
   "execution_count": 5,
   "metadata": {},
   "outputs": [],
   "source": [
    "# import libraries\n",
    "import numpy as np\n",
    "import  pandas as pd\n",
    "import geopy\n",
    "from geopy.geocoders import Nominatim"
   ]
  },
  {
   "cell_type": "code",
   "execution_count": 6,
   "metadata": {},
   "outputs": [
    {
     "name": "stdout",
     "output_type": "stream",
     "text": [
      "                   Borough  areaKm2  Population  densityPerkm2  \\\n",
      "0                     West     9.89      143842          15252   \n",
      "1         Centrum (Centre)     8.04       86422          13748   \n",
      "2             Zuid (South)    17.41      144432           9349   \n",
      "3              Oost (East)    30.56      135767           7635   \n",
      "4     Nieuw-West(New West)    32.38      151677           4478   \n",
      "5      Zuidoost(Southeast)    22.08       87854           4391   \n",
      "6            Noord (North)    49.01       94766           2269   \n",
      "7  Westpoort(West Gateway)    10.00         192             10   \n",
      "\n",
      "                                      Neighbourhoods  \n",
      "0  Frederik Hendrikbuurt, Houthaven, Spaarndammer...  \n",
      "1  Binnenstad, Grachtengordel, Haarlemmerbuurt, J...  \n",
      "2  Apollobuurt, Buitenveldert, Hoofddorppleinbuur...  \n",
      "3  IJburg, Indische Buurt, Eastern Docklands, Oud...  \n",
      "4  Geuzenveld, Nieuw Sloten, Oostoever, Osdorp, O...  \n",
      "5    Bijlmermeer, Venserpolder, Gaasperdam, Driemond  \n",
      "6  Banne Buiksloot, Buiksloot, Buikslotermeer, Fl...  \n",
      "7                                          Westpoort  \n"
     ]
    }
   ],
   "source": [
    "# parse the wiki page\n",
    "url = 'https://en.wikipedia.org/wiki/Boroughs_of_Amsterdam#List_of_boroughs'\n",
    "df = pd.read_html(url)\n",
    "df = df[1]\n",
    "df.drop('Location (in green)', axis = 1, inplace = True)\n",
    "df.rename(columns = {'Area':'areaKm2','Population density' : 'densityPerkm2'}, inplace = True)\n",
    "df['areaKm2'] =  df['areaKm2'].apply(lambda x: x.split(' ')[0])\n",
    "df['densityPerkm2'] = df['densityPerkm2'].apply(lambda x: x.split('/')[0])\n",
    "df['densityPerkm2'] = df['densityPerkm2'].apply(lambda x: ''.join(x.split(',')))\n",
    "df['densityPerkm2'] = pd.to_numeric(df['densityPerkm2'])\n",
    "df['areaKm2'] = pd.to_numeric(df['areaKm2'])\n",
    "df.sort_values(by = ['densityPerkm2'], ascending = False, inplace = True)\n",
    "df = df.reset_index(drop = True)\n",
    "print(df)"
   ]
  },
  {
   "cell_type": "code",
   "execution_count": 7,
   "metadata": {},
   "outputs": [
    {
     "name": "stdout",
     "output_type": "stream",
     "text": [
      "             Borough          Neighborhoods\n",
      "0               West  Frederik Hendrikbuurt\n",
      "1               West              Houthaven\n",
      "2               West      Spaarndammerbuurt\n",
      "3               West      Staatsliedenbuurt\n",
      "4               West         Zeeheldenbuurt\n",
      "5               West             Westerpark\n",
      "6               West            Kinkerbuurt\n",
      "7               West          Overtoombuurt\n",
      "8               West            De Baarsjes\n",
      "9               West          Bos en Lommer\n",
      "10              West          Kolenkitbuurt\n",
      "11              West               Landlust\n",
      "12              West             Sloterdijk\n",
      "13  Centrum (Centre)             Binnenstad\n",
      "14  Centrum (Centre)         Grachtengordel\n",
      "15  Centrum (Centre)        Haarlemmerbuurt\n",
      "16  Centrum (Centre)             Jodenbuurt\n",
      "17  Centrum (Centre)                Jordaan\n",
      "18  Centrum (Centre)               Kadijken\n",
      "19  Centrum (Centre)                Lastage\n"
     ]
    }
   ],
   "source": [
    "# split neighborhood into each row\n",
    "data_neighborhood = []\n",
    "data_borough = []\n",
    "for idx in range(df.shape[0]):\n",
    "    neighborhoods = df.iloc[idx]['Neighbourhoods']\n",
    "    neighborhoods = neighborhoods.split(',')\n",
    "    neighborhoods_list = [i.strip() for i in neighborhoods]\n",
    "    borough_tmp = len(neighborhoods_list)*[df.iloc[idx]['Borough']]\n",
    "    data_neighborhood.extend(neighborhoods_list)\n",
    "    data_borough.extend(borough_tmp)\n",
    "df_data = pd.DataFrame([data_borough,data_neighborhood])\n",
    "df_data = df_data.transpose()\n",
    "df_data.columns = ['Borough', 'Neighborhoods']\n",
    "\n",
    "print(df_data.head(20))\n"
   ]
  },
  {
   "cell_type": "code",
   "execution_count": 8,
   "metadata": {},
   "outputs": [
    {
     "name": "stdout",
     "output_type": "stream",
     "text": [
      "[[52.376955699999996, 4.87408475121028], [52.39337645, 4.881680240481273], [52.389662599999994, 4.87936892609182], [52.3802865, 4.870950694196747], [52.389329849999996, 4.888242227776295], [52.387236349999995, 4.871777328438663], [52.3691672, 4.866649434878931], [nan, nan], [52.3689257, 4.8563825], [52.3785206, 4.8487385], [52.3796239, 4.8414043], [52.379851, 4.858608466297305], [52.3871325, 4.8465234], [50.8492705, 5.6887558], [52.370836999999995, 4.885478190638034], [52.382441299999996, 4.887193084850383], [nan, nan], [52.3754157, 4.8810958], [52.3677527, 4.919543395257523], [52.371250450000005, 4.905507717552577], [52.37659135, 4.907560405017876], [52.371869000000004, 4.922875349226905], [52.366405, 4.913728577285194], [52.155884, 4.4876151], [52.3706669, 4.905258231575102], [nan, nan], [52.3607227, 4.887778], [52.348072599999995, 4.875559011765657], [52.3286468, 4.8735234], [nan, nan], [52.355760950000004, 4.876834631189791], [52.3542396, 4.896946171061886], [nan, nan], [52.34404, 4.9036533], [52.35260635, 4.8545909852399625], [52.3465311, 4.862065826377204], [52.3578866, 4.867116659586616], [52.0864589, 4.305179439259045], [52.3377797, 4.8734447], [52.3549938, 4.9971565], [52.36199475, 4.938969409671746], [52.374661700000004, 4.944209855820709], [51.0624648, 3.4256905], [52.349809, 4.9382992], [52.3783939, 4.8016275], [51.0503784, 4.3783882], [52.92377075, 4.793693478293948], [52.3566186, 4.799164], [52.3641934, 4.8379711], [52.3417672, 4.7977487], [52.3779612, 4.821952], [52.3612861, 4.827466], [52.3170328, 4.9649907], [52.3267669, 4.9463398], [52.30621725, 4.971679942600409], [52.3054047, 5.0165495], [52.40850545, 4.918843082544989], [52.39256175, 4.929278957446687], [52.39943875, 4.943135135532968], [52.39853155, 4.914831648238545], [52.4164471, 4.899303631340722], [53.0947333, 6.8732777], [52.3944725, 4.953411577173451], [nan, nan], [52.419486750000004, 4.889508136867875], [52.38688415, 4.902976120440213], [52.3904869, 4.946884222821597], [52.41279645, 4.888052363986839], [52.4114676, 4.800573466659271]]\n"
     ]
    }
   ],
   "source": [
    "# retrieve the coordination\n",
    "coor_ll = []\n",
    "for idx in range(df_data.shape[0]):\n",
    "    geolocator = Nominatim(user_agent = 'Netherland_explorer')\n",
    "    try:\n",
    "        coor = geolocator.geocode(df_data.loc[idx]['Neighborhoods'])\n",
    "        #coor = geolocator.geocode('Overtoombuurt')\n",
    "        coor_ll.append([coor.latitude, coor.longitude])\n",
    "    except:\n",
    "        coor_ll.append([np.nan,np.nan])\n",
    "print(coor_ll)\n"
   ]
  },
  {
   "cell_type": "code",
   "execution_count": 9,
   "metadata": {},
   "outputs": [
    {
     "name": "stdout",
     "output_type": "stream",
     "text": [
      "                    Borough                        Neighborhoods          0  \\\n",
      "0                      West                Frederik Hendrikbuurt  52.376956   \n",
      "1                      West                            Houthaven  52.393376   \n",
      "2                      West                    Spaarndammerbuurt  52.389663   \n",
      "3                      West                    Staatsliedenbuurt  52.380286   \n",
      "4                      West                       Zeeheldenbuurt  52.389330   \n",
      "5                      West                           Westerpark  52.387236   \n",
      "6                      West                          Kinkerbuurt  52.369167   \n",
      "7                      West                        Overtoombuurt        NaN   \n",
      "8                      West                          De Baarsjes  52.368926   \n",
      "9                      West                        Bos en Lommer  52.378521   \n",
      "10                     West                        Kolenkitbuurt  52.379624   \n",
      "11                     West                             Landlust  52.379851   \n",
      "12                     West                           Sloterdijk  52.387132   \n",
      "13         Centrum (Centre)                           Binnenstad  50.849271   \n",
      "14         Centrum (Centre)                       Grachtengordel  52.370837   \n",
      "15         Centrum (Centre)                      Haarlemmerbuurt  52.382441   \n",
      "16         Centrum (Centre)                           Jodenbuurt        NaN   \n",
      "17         Centrum (Centre)                              Jordaan  52.375416   \n",
      "18         Centrum (Centre)                             Kadijken  52.367753   \n",
      "19         Centrum (Centre)                              Lastage  52.371250   \n",
      "20         Centrum (Centre)                     Oosterdokseiland  52.376591   \n",
      "21         Centrum (Centre)                  Oostelijke Eilanden  52.371869   \n",
      "22         Centrum (Centre)                             Plantage  52.366405   \n",
      "23         Centrum (Centre)                            Rapenburg  52.155884   \n",
      "24         Centrum (Centre)                            Uilenburg  52.370667   \n",
      "25         Centrum (Centre)                  Westelijke Eilanden        NaN   \n",
      "26         Centrum (Centre)                       Weteringschans  52.360723   \n",
      "27             Zuid (South)                          Apollobuurt  52.348073   \n",
      "28             Zuid (South)                        Buitenveldert  52.328647   \n",
      "29             Zuid (South)                  Hoofddorppleinbuurt        NaN   \n",
      "..                      ...                                  ...        ...   \n",
      "39              Oost (East)                               IJburg  52.354994   \n",
      "40              Oost (East)                       Indische Buurt  52.361995   \n",
      "41              Oost (East)                    Eastern Docklands  52.374662   \n",
      "42              Oost (East)                             Oud-Oost  51.062465   \n",
      "43              Oost (East)                      Watergraafsmeer  52.349809   \n",
      "44     Nieuw-West(New West)                           Geuzenveld  52.378394   \n",
      "45     Nieuw-West(New West)                         Nieuw Sloten  51.050378   \n",
      "46     Nieuw-West(New West)                            Oostoever  52.923771   \n",
      "47     Nieuw-West(New West)                               Osdorp  52.356619   \n",
      "48     Nieuw-West(New West)                      Overtoomse Veld  52.364193   \n",
      "49     Nieuw-West(New West)                               Sloten  52.341767   \n",
      "50     Nieuw-West(New West)                           Slotermeer  52.377961   \n",
      "51     Nieuw-West(New West)                          Slotervaart  52.361286   \n",
      "52      Zuidoost(Southeast)                          Bijlmermeer  52.317033   \n",
      "53      Zuidoost(Southeast)                         Venserpolder  52.326767   \n",
      "54      Zuidoost(Southeast)                           Gaasperdam  52.306217   \n",
      "55      Zuidoost(Southeast)                             Driemond  52.305405   \n",
      "56            Noord (North)                      Banne Buiksloot  52.408505   \n",
      "57            Noord (North)                            Buiksloot  52.392562   \n",
      "58            Noord (North)                       Buikslotermeer  52.399439   \n",
      "59            Noord (North)                            Floradorp  52.398532   \n",
      "60            Noord (North)                             Kadoelen  52.416447   \n",
      "61            Noord (North)                            Molenwijk  53.094733   \n",
      "62            Noord (North)                           Nieuwendam  52.394472   \n",
      "63            Noord (North)  Nieuwendammerdijk en Buiksloterdijk        NaN   \n",
      "64            Noord (North)                        Oostzanerwerf  52.419487   \n",
      "65            Noord (North)                            Overhoeks  52.386884   \n",
      "66            Noord (North)                  Tuindorp Nieuwendam  52.390487   \n",
      "67            Noord (North)                    Tuindorp Oostzaan  52.412796   \n",
      "68  Westpoort(West Gateway)                            Westpoort  52.411468   \n",
      "\n",
      "           1  \n",
      "0   4.874085  \n",
      "1   4.881680  \n",
      "2   4.879369  \n",
      "3   4.870951  \n",
      "4   4.888242  \n",
      "5   4.871777  \n",
      "6   4.866649  \n",
      "7        NaN  \n",
      "8   4.856382  \n",
      "9   4.848738  \n",
      "10  4.841404  \n",
      "11  4.858608  \n",
      "12  4.846523  \n",
      "13  5.688756  \n",
      "14  4.885478  \n",
      "15  4.887193  \n",
      "16       NaN  \n",
      "17  4.881096  \n",
      "18  4.919543  \n",
      "19  4.905508  \n",
      "20  4.907560  \n",
      "21  4.922875  \n",
      "22  4.913729  \n",
      "23  4.487615  \n",
      "24  4.905258  \n",
      "25       NaN  \n",
      "26  4.887778  \n",
      "27  4.875559  \n",
      "28  4.873523  \n",
      "29       NaN  \n",
      "..       ...  \n",
      "39  4.997157  \n",
      "40  4.938969  \n",
      "41  4.944210  \n",
      "42  3.425690  \n",
      "43  4.938299  \n",
      "44  4.801628  \n",
      "45  4.378388  \n",
      "46  4.793693  \n",
      "47  4.799164  \n",
      "48  4.837971  \n",
      "49  4.797749  \n",
      "50  4.821952  \n",
      "51  4.827466  \n",
      "52  4.964991  \n",
      "53  4.946340  \n",
      "54  4.971680  \n",
      "55  5.016549  \n",
      "56  4.918843  \n",
      "57  4.929279  \n",
      "58  4.943135  \n",
      "59  4.914832  \n",
      "60  4.899304  \n",
      "61  6.873278  \n",
      "62  4.953412  \n",
      "63       NaN  \n",
      "64  4.889508  \n",
      "65  4.902976  \n",
      "66  4.946884  \n",
      "67  4.888052  \n",
      "68  4.800573  \n",
      "\n",
      "[69 rows x 4 columns]\n"
     ]
    }
   ],
   "source": [
    "# append the above coordination to the df_data\n",
    "coor_ll = np.array(coor_ll)\n",
    "df_coor = pd.DataFrame(coor_ll)\n",
    "df_ams = pd.concat([df_data, df_coor], axis = 1)\n",
    "print(df_ams)\n",
    "df_ams.to_csv('data.csv')"
   ]
  },
  {
   "cell_type": "markdown",
   "metadata": {},
   "source": [
    "## Discussion about data obtain\n"
   ]
  },
  {
   "cell_type": "markdown",
   "metadata": {},
   "source": [
    "- There are some fields the geopy could not find the coordinations for latitude and longitude, so then i have to fill it by manually search each one. Howerver, that are not so many. And the final data will be attached!"
   ]
  }
 ],
 "metadata": {
  "kernelspec": {
   "display_name": "Python 3.6",
   "language": "python",
   "name": "python3"
  },
  "language_info": {
   "codemirror_mode": {
    "name": "ipython",
    "version": 3
   },
   "file_extension": ".py",
   "mimetype": "text/x-python",
   "name": "python",
   "nbconvert_exporter": "python",
   "pygments_lexer": "ipython3",
   "version": "3.6.9"
  }
 },
 "nbformat": 4,
 "nbformat_minor": 1
}
